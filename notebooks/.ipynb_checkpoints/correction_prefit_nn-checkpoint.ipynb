{
 "cells": [
  {
   "cell_type": "markdown",
   "id": "a9cf2429",
   "metadata": {},
   "source": [
    "# Utilisation du paramètre `prefit` avec un réseau de neurones"
   ]
  },
  {
   "cell_type": "markdown",
   "id": "0413d6f0",
   "metadata": {},
   "source": [
    "`MapieRegressor` peut être utilisé pour estimer les incertitudes de gros modèles pour lesquels le coût de la validation croisée est trop élevé. Par exemple, les réseaux de neurones reposent en général sur un seul ensemble de validation.\n",
    "\n",
    "Dans cet exemple, nous ajustons d'abord un réseau de neurones sur le jeu d'entraînement. Nous calculons ensuite les résidus sur un jeu de validation avec le paramètre `cv=\"prefit\"`. Enfin, nous estimons les intervalles de prédiction sur un jeu de test."
   ]
  },
  {
   "cell_type": "markdown",
   "id": "a8300089",
   "metadata": {},
   "source": [
    "## 1. Génération des données"
   ]
  },
  {
   "cell_type": "code",
   "execution_count": null,
   "id": "250fbdc4",
   "metadata": {},
   "outputs": [],
   "source": [
    "import scipy\n",
    "import numpy as np\n",
    "from sklearn.model_selection import train_test_split\n",
    "from sklearn.neural_network import MLPRegressor\n",
    "import plotly.graph_objects as go"
   ]
  },
  {
   "cell_type": "markdown",
   "id": "19dec3da",
   "metadata": {},
   "source": [
    "**Exercice.** Commençons par importer `MapieRegressor` et `coverage_score`."
   ]
  },
  {
   "cell_type": "code",
   "execution_count": null,
   "id": "39d2c866",
   "metadata": {},
   "outputs": [],
   "source": [
    "from mapie.estimators import MapieRegressor  # correction\n",
    "from mapie.metrics import coverage_score  # correction"
   ]
  },
  {
   "cell_type": "markdown",
   "id": "cb280c52",
   "metadata": {},
   "source": [
    "Commençons par générer un jeu de données univarié avec bruit gaussien homoscédastique."
   ]
  },
  {
   "cell_type": "code",
   "execution_count": null,
   "id": "27869eb4",
   "metadata": {},
   "outputs": [],
   "source": [
    "def f(x: np.ndarray) -> np.ndarray:\n",
    "    \"\"\"Polynomial function used to generate one-dimensional data.\"\"\"\n",
    "    return np.array(5*x + 5*x**4 - 9*x**2)"
   ]
  },
  {
   "cell_type": "code",
   "execution_count": null,
   "id": "9dff09c9",
   "metadata": {},
   "outputs": [],
   "source": [
    "sigma = 0.1\n",
    "n_samples = 10000\n",
    "X = np.linspace(0, 1, n_samples)\n",
    "y = f(X) + np.random.normal(0, sigma, n_samples)"
   ]
  },
  {
   "cell_type": "markdown",
   "id": "45cd280d",
   "metadata": {},
   "source": [
    "**Exercice.** Séparons le jeu de données en un jeu d'entraînement, un jeu de validation, et un jeu de test."
   ]
  },
  {
   "cell_type": "code",
   "execution_count": null,
   "id": "d30b515c",
   "metadata": {},
   "outputs": [],
   "source": [
    "# Train/validation/test split\n",
    "test_size = 1/10\n",
    "X_train_val, X_test, y_train_val, y_test = train_test_split(\n",
    "    X, y, test_size=test_size  # correction\n",
    ")\n",
    "test_size = 1/9\n",
    "X_train, X_val, y_train, y_val = train_test_split(\n",
    "    X_train_val, y_train_val, test_size=test_size  # correction\n",
    ")"
   ]
  },
  {
   "cell_type": "markdown",
   "id": "a69a5056",
   "metadata": {},
   "source": [
    "## 2. Définition et entraînement du modèle"
   ]
  },
  {
   "cell_type": "markdown",
   "id": "2d898b7d",
   "metadata": {},
   "source": [
    "**Exercice.** Définissons notre modèle [`MLPRegressor`](https://scikit-learn.org/stable/modules/generated/sklearn.neural_network.MLPRegressor.html) avec les paramètres par défaut (une seule couche à 100 neurones avec une fonction d'activation \"relu\") et optimisons le sur le jeu d'entraînement."
   ]
  },
  {
   "cell_type": "code",
   "execution_count": null,
   "id": "c9d0c97e",
   "metadata": {},
   "outputs": [],
   "source": [
    "model = MLPRegressor(random_state=1)  # correction\n",
    "model.fit(X_train.reshape(-1, 1), y_train)  # correction"
   ]
  },
  {
   "cell_type": "markdown",
   "id": "fbc914d1",
   "metadata": {},
   "source": [
    "**Exercice.** Utilisons `MapieRegressor` pour calibrer les incertitudes avec l'option `cv=\"prefit\"` sur le jeu de validation. Le MLP déjà entraîné est utilisé dans MAPIE pour estimer les résidus sur le jeu de validation."
   ]
  },
  {
   "cell_type": "code",
   "execution_count": null,
   "id": "d57ab73c",
   "metadata": {},
   "outputs": [],
   "source": [
    "mapie = MapieRegressor(model, cv=\"prefit\")  # correction\n",
    "mapie.fit(X_val.reshape(-1, 1), y_val);"
   ]
  },
  {
   "cell_type": "markdown",
   "id": "97ed80b4",
   "metadata": {},
   "source": [
    "## 3. Estimation des intervalles de prédiction"
   ]
  },
  {
   "cell_type": "markdown",
   "id": "c70716a4",
   "metadata": {},
   "source": [
    "**Exercice.** Evaluons maintenant les intervalles de prédiction sur le jeu de test pour `alpha = 0.1`."
   ]
  },
  {
   "cell_type": "code",
   "execution_count": null,
   "id": "7acc86a4",
   "metadata": {},
   "outputs": [],
   "source": [
    "alpha = 0.1\n",
    "y_preds = mapie.predict(X_test.reshape(-1, 1), alpha=alpha)  # correction\n",
    "y_pred_low, y_pred_up = y_preds[1][:, 0, 0], y_preds[1][:, 1, 0]"
   ]
  },
  {
   "cell_type": "markdown",
   "id": "b55a19d2",
   "metadata": {},
   "source": [
    "**Question.** Quel est la couverture effective obtenue sur le jeu de test ? Est-elle cohérente avec la couverture cible de 90% (pour un alpha de 0.1) ? "
   ]
  },
  {
   "cell_type": "code",
   "execution_count": null,
   "id": "a49143bb",
   "metadata": {},
   "outputs": [],
   "source": [
    "coverage = coverage_score(y_test, y_pred_low, y_pred_up)  # correction\n",
    "print(coverage)  # correction"
   ]
  },
  {
   "cell_type": "markdown",
   "id": "37e10879",
   "metadata": {},
   "source": [
    "## 4. Visualisation des résultats"
   ]
  },
  {
   "cell_type": "code",
   "execution_count": null,
   "id": "f37c6e08",
   "metadata": {},
   "outputs": [],
   "source": [
    "theoretical_semi_width = scipy.stats.norm.ppf(1 - alpha)*sigma\n",
    "y_test_theoretical = f(X_test)\n",
    "order = np.argsort(X_test)"
   ]
  },
  {
   "cell_type": "code",
   "execution_count": null,
   "id": "ed489138",
   "metadata": {},
   "outputs": [],
   "source": [
    "fig = go.Figure()\n",
    "# lower/upper bounds\n",
    "fig.add_trace(go.Scatter(\n",
    "    name=\"lower bound\",\n",
    "    x=X_test[order].ravel(),\n",
    "    y=y_pred_low[order],\n",
    "    mode=\"lines\",\n",
    "    line=dict(color=\"rgba(0, 0, 255, 0.3)\", dash='solid')\n",
    "))\n",
    "fig.add_trace(go.Scatter(\n",
    "    name=\"upper bound\",\n",
    "    x=X_test[order].ravel(),\n",
    "    y=y_pred_up[order],\n",
    "    mode=\"lines\",\n",
    "    fill=\"tonexty\",\n",
    "    fillcolor=\"rgba(0, 0, 255, 0.1)\",\n",
    "    line=dict(color=\"rgba(0, 0, 255, 0.3)\", dash='solid')\n",
    "))\n",
    "# data\n",
    "fig.add_trace(go.Scatter(\n",
    "    name=\"data\",\n",
    "    x=X_test,\n",
    "    y=y_test,\n",
    "    mode=\"markers\",\n",
    "    marker=dict(color=\"red\", size=4)\n",
    "))\n",
    "# predictions\n",
    "fig.add_trace(go.Scatter(\n",
    "    name=\"predictions\",\n",
    "    x=X_test[order].ravel(),\n",
    "    y=y_preds[0][order],\n",
    "    mode=\"lines\",\n",
    "    line=dict(color=\"blue\", dash='solid')\n",
    "))\n",
    "# true function\n",
    "fig.add_trace(go.Scatter(\n",
    "    name=\"true function\",\n",
    "    x=X_test[order].ravel(),\n",
    "    y=y_test_theoretical[order],\n",
    "    mode=\"lines\",\n",
    "    line=dict(color=\"black\", dash='solid')\n",
    "))\n",
    "fig.add_trace(go.Scatter(\n",
    "    name=\"theoretical upper bound\",\n",
    "    x=X_test[order].ravel(),\n",
    "    y=y_test_theoretical[order] - theoretical_semi_width,\n",
    "    mode=\"lines\",\n",
    "    line=dict(color=\"black\", dash='dash')\n",
    "))\n",
    "fig.add_trace(go.Scatter(\n",
    "    name=\"theoretical lower bound\",\n",
    "    x=X_test[order].ravel(),\n",
    "    y=y_test_theoretical[order]  + theoretical_semi_width,\n",
    "    mode=\"lines\",\n",
    "    line=dict(color=\"black\", dash='dash')\n",
    "))\n",
    "fig.update_layout(\n",
    "    xaxis_title=\"x\",\n",
    "    yaxis_title=\"y\",\n",
    "    font = dict(family='Computer Modern', size=20, color='#7f7f7f'),\n",
    "    hovermode=\"x\",\n",
    "    showlegend=False\n",
    ")\n",
    "fig.show()"
   ]
  },
  {
   "cell_type": "code",
   "execution_count": null,
   "id": "c4d02264",
   "metadata": {},
   "outputs": [],
   "source": []
  }
 ],
 "metadata": {
  "kernelspec": {
   "display_name": "bbl-mapie",
   "language": "python",
   "name": "bbl-mapie"
  },
  "language_info": {
   "codemirror_mode": {
    "name": "ipython",
    "version": 3
   },
   "file_extension": ".py",
   "mimetype": "text/x-python",
   "name": "python",
   "nbconvert_exporter": "python",
   "pygments_lexer": "ipython3",
   "version": "3.9.2"
  }
 },
 "nbformat": 4,
 "nbformat_minor": 5
}
